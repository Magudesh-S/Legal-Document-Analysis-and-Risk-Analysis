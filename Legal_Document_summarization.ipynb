{
  "cells": [
    {
      "cell_type": "markdown",
      "metadata": {
        "id": "u13NxmOs-Stb"
      },
      "source": [
        "#### **Install required library packeges**\n",
        "\n",
        "\n",
        "* ####  Using -- \"*pip install*\"\n",
        "\n",
        "\n"
      ]
    },
    {
      "cell_type": "code",
      "execution_count": null,
      "metadata": {
        "id": "0qfdpAPQPYmm"
      },
      "outputs": [],
      "source": [
        "!pip install \"ibm-watsonx-ai==0.2.6\"\n",
        "!pip install \"langchain\" \"langchain-core\" \"langchain-groq\" \"langchain-community\"\n",
        "!pip install \"huggingface==0.0.1\"\n",
        "!pip install \"huggingface-hub==0.21.4\"\n",
        "!pip install \"sentence-transformers==2.5.1\"\n",
        "!pip install \"chromadb==0.4.24\"\n",
        "!pip install \"wget==3.2\"\n",
        "!pip install \"groq\"\n"
      ]
    },
    {
      "cell_type": "markdown",
      "metadata": {
        "id": "yvHrJdcO_AeA"
      },
      "source": [
        "## **Import Libraries**"
      ]
    },
    {
      "cell_type": "code",
      "execution_count": 5,
      "metadata": {
        "id": "QQfK8CpRPjA5"
      },
      "outputs": [],
      "source": [
        "def warn(*args, **kwargs):\n",
        "\n",
        "    pass\n",
        "\n",
        "import warnings\n",
        "warnings.warn = warn\n",
        "warnings.filterwarnings ('ignore')\n",
        "from langchain.document_loaders import TextLoader\n",
        "from langchain.text_splitter import CharacterTextSplitter\n",
        "from langchain.vectorstores import Chroma\n",
        "from langchain.embeddings import HuggingFaceEmbeddings\n",
        "from langchain.chains import RetrievalQA\n",
        "from langchain.prompts import PromptTemplate\n",
        "from langchain.chains import ConversationalRetrievalChain\n",
        "from langchain.memory import ConversationBufferMemory\n",
        "from ibm_watsonx_ai.foundation_models import Model\n",
        "from ibm_watsonx_ai.metanames import GenTextParamsMetaNames as GenParams\n",
        "from ibm_watsonx_ai.foundation_models.utils.enums import ModelTypes, DecodingMethods\n",
        "from ibm_watson_machine_learning.foundation_models.extensions.langchain import WatsonxLLM\n",
        "import wget\n",
        "\n",
        "from langchain_groq import ChatGroq\n",
        "from dotenv import load_dotenv\n",
        "import os\n"
      ]
    },
    {
      "cell_type": "markdown",
      "metadata": {
        "id": "iajDVr2x9-mz"
      },
      "source": [
        "# **Load the Document**"
      ]
    },
    {
      "cell_type": "code",
      "execution_count": 44,
      "metadata": {
        "colab": {
          "base_uri": "https://localhost:8080/"
        },
        "collapsed": true,
        "id": "zOekjq-kPlld",
        "outputId": "29eb0a68-3c5e-4533-a0f3-cffd0388bafc"
      },
      "outputs": [
        {
          "name": "stdout",
          "output_type": "stream",
          "text": [
            "House Lease Agreement\n",
            "\n",
            "This House Lease Agreement (\"Agreement\") is made on this 17th day of September, 2025, between:\n",
            "\n",
            "Owner (Lessor): Mr. Ramesh Kumar  \n",
            "Address: 12, Green Valley Apartments, Anna Nagar, Chennai, Tamil Nadu  \n",
            "Phone: +91 98765 43210  \n",
            "\n",
            "AND  \n",
            "\n",
            "Tenant (Lessee): Mr. Arjun Mehta  \n",
            "Address: 45, Sunrise Residency, Indiranagar, Bengaluru, Karnataka  \n",
            "Phone: +91 91234 56789  \n",
            "\n",
            "------------------------------------------------------------\n",
            "\n",
            "1. Property Description\n",
            "The Owner agrees to lease to the Tenant the residential property located at:\n",
            "Flat No. 203, Lotus Residency, T. Nagar, Chennai – 600017\n",
            "\n",
            "2. Lease Term\n",
            "This lease shall begin on 1st October, 2025 and continue until 30th September, 2026, unless extended or terminated by mutual agreement.\n",
            "\n",
            "3. Rent\n",
            "The Tenant shall pay the Owner a monthly rent of ₹25,000, payable in advance on or before the 5th day of each month.\n",
            "\n",
            "4. Deposit\n",
            "A refundable security deposit of ₹75,000 shall be paid by the Tenant at the time of signing this Agreement.\n",
            "\n",
            "5. Tenant’s Obligations\n",
            "- Maintain cleanliness of the premises.  \n",
            "- Not make structural changes without written consent.  \n",
            "- Pay all utility bills including electricity, water, and internet charges.  \n",
            "\n",
            "6. Owner’s Obligations\n",
            "- Ensure the property is fit for habitation.  \n",
            "- Carry out necessary structural repairs not caused by Tenant’s negligence.  \n",
            "\n",
            "7. Termination\n",
            "Either party may terminate this lease with 30 days written notice. Failure to pay rent on time may lead to immediate termination.\n",
            "\n",
            "8. Jurisdiction\n",
            "This Agreement shall be governed under the applicable laws of India.\n",
            "\n",
            "------------------------------------------------------------\n",
            "\n",
            "Signatures\n",
            "\n",
            "Owner:  Ramesh Kumar  Date: 17/09/2025  \n",
            "\n",
            "Tenant:  Arjun Mehtas  Date: 17/09/2025\n",
            "\n"
          ]
        }
      ],
      "source": [
        "def read_file(filename):\n",
        "  with open(filename, 'r') as document:\n",
        "     content = document.read()\n",
        "     print(content)\n",
        "\n",
        "# Upload the  Document in colab and  open with  \"file_path\"\n",
        "filename=\"House Lease Agreement.txt\"\n",
        "\n",
        "#File_path=input(': Enter the file path :_')\n",
        "read_file(filename)"
      ]
    },
    {
      "cell_type": "markdown",
      "metadata": {
        "id": "dYyMLi8-_Lgt"
      },
      "source": [
        "# **Split the Document into chunks**"
      ]
    },
    {
      "cell_type": "code",
      "execution_count": 50,
      "metadata": {
        "colab": {
          "base_uri": "https://localhost:8080/"
        },
        "id": "F4yFsId8i3Xb",
        "outputId": "2280954d-d357-42e9-ca2e-bbdcc34418df"
      },
      "outputs": [
        {
          "name": "stdout",
          "output_type": "stream",
          "text": [
            "2\n"
          ]
        }
      ],
      "source": [
        "File_path='/content/House Lease Agreement.txt'\n",
        "loader = TextLoader(File_path)\n",
        "documents = loader.load()\n",
        "with open(File_path, 'r', encoding='utf-8') as file:\n",
        "            text = file.read()\n",
        "text_splitter = CharacterTextSplitter(separator = \"\\n\",chunk_size=1000, chunk_overlap=30)         #split the doc into chunks\n",
        "texts = text_splitter.split_text(text)\n",
        "#print(texts[0])\n",
        "print(len(texts))"
      ]
    },
    {
      "cell_type": "markdown",
      "metadata": {
        "id": "JZt2jIZ19prd"
      },
      "source": [
        "# **Embedding**"
      ]
    },
    {
      "cell_type": "code",
      "execution_count": 51,
      "metadata": {
        "colab": {
          "base_uri": "https://localhost:8080/"
        },
        "id": "-awydILAjc4K",
        "outputId": "dbaf8c12-fbc9-4afe-e1df-8eca3c508dde"
      },
      "outputs": [
        {
          "name": "stderr",
          "output_type": "stream",
          "text": [
            "ERROR:chromadb.telemetry.product.posthog:Failed to send telemetry event ClientStartEvent: capture() takes 1 positional argument but 3 were given\n",
            "ERROR:chromadb.telemetry.product.posthog:Failed to send telemetry event ClientCreateCollectionEvent: capture() takes 1 positional argument but 3 were given\n"
          ]
        },
        {
          "name": "stdout",
          "output_type": "stream",
          "text": [
            "------------- DONE -------------\n"
          ]
        }
      ],
      "source": [
        "embed=HuggingFaceEmbeddings()\n",
        "if texts:\n",
        "  data=Chroma.from_texts(texts, embed)               # use chroma vector db to  store the vectors\n",
        "print(\"------------- DONE -------------\")"
      ]
    },
    {
      "cell_type": "markdown",
      "metadata": {
        "id": "F90X9XWrAccV"
      },
      "source": [
        "# **Model Name : \"Lamma - 3.2  \"**"
      ]
    },
    {
      "cell_type": "code",
      "execution_count": 52,
      "metadata": {
        "id": "yxRgYc2iFNYs"
      },
      "outputs": [],
      "source": [
        "load_dotenv()\n",
        "#api_key = os.environ.get(\"GROQ_API_KEY\")   # using Groq api\n",
        "api_key =\"Enter the Groq API Key\"\n",
        "\n",
        "# Llm  part ---\n",
        "\n",
        "My_llm= ChatGroq(groq_api_key=api_key, model_name=\"llama-3.3-70b-versatile\")\n"
      ]
    },
    {
      "cell_type": "markdown",
      "metadata": {
        "id": "-OFqpHLpIcnd"
      },
      "source": [
        "# Ask  question repeatively"
      ]
    },
    {
      "cell_type": "code",
      "execution_count": 53,
      "metadata": {
        "id": "15E3q43yhsVz"
      },
      "outputs": [],
      "source": [
        "# to get the pipline flow  from file getting to responce makeing\n",
        "import time\n",
        "\n",
        "def pipe_line(file_path):\n",
        "\n",
        "  loader = TextLoader(file_path)\n",
        "  documents = loader.load()\n",
        "\n",
        "  text_splitter = CharacterTextSplitter(separator='\\n',chunk_size=500, chunk_overlap=20)\n",
        "  texts = text_splitter.split_documents(documents)\n",
        "  print(len(texts))\n",
        "\n",
        "  embed=HuggingFaceEmbeddings()\n",
        "  data=Chroma.from_documents(texts, embed)\n",
        "  print(\"------------- DONE -------------\")\n",
        "\n",
        "  while True:\n",
        "    query=input(f'--: Ask the Question : ')\n",
        "    print('RESPONSE : - \\n', get_response(query) )\n",
        "    time.sleep(3)"
      ]
    },
    {
      "cell_type": "code",
      "execution_count": 54,
      "metadata": {
        "id": "71PNuTEpTRpd"
      },
      "outputs": [],
      "source": [
        "def get_response(query):                                             # Intializa the  model to  get uses query and make responce\n",
        "  qa = RetrievalQA.from_chain_type(\n",
        "                               llm=My_llm,\n",
        "                               chain_type=\"stuff\",\n",
        "                               retriever=data.as_retriever(),\n",
        "                               )\n",
        "  qa.return_source_documents = False\n",
        "  response = qa.invoke(query)\n",
        "  return response['result']"
      ]
    },
    {
      "cell_type": "markdown",
      "metadata": {
        "id": "frwxWkW42-FO"
      },
      "source": [
        "**Same Task**"
      ]
    },
    {
      "cell_type": "code",
      "execution_count": 55,
      "metadata": {
        "colab": {
          "base_uri": "https://localhost:8080/"
        },
        "id": "4yxSOWGCGWL7",
        "outputId": "20a09c62-0c29-41f4-f0b0-2c6ddc2c78fc"
      },
      "outputs": [
        {
          "name": "stdout",
          "output_type": "stream",
          "text": [
            "\n",
            "\n",
            "---: Ask the Question : who is the owner\n",
            "\n",
            "RESPONSE :~~~~~~~~~~~~~~~~~~~~~~~~~~~~~~~~~~~~~~~~~~~~~~~~~~~~~~~~~~~~~~~~~~~~~~~~~~~~~~~~~~ \n",
            " The owner (Lessor) is Mr. Ramesh Kumar, and his address is 12, Green Valley Apartments, Anna Nagar, Chennai, Tamil Nadu, with a phone number of +91 98765 43210.\n",
            "\n",
            "============================================================================================\n",
            "\n",
            "\n",
            "\n",
            "---: Ask the Question : no\n"
          ]
        }
      ],
      "source": [
        "while True:                                     # ask the query continously from the user\n",
        "  query=input(f'\\n\\n---: Ask the Question : ')\n",
        "  if (query==\"no\"):\n",
        "    break\n",
        "  else:\n",
        "\n",
        "    print('\\nRESPONSE :~~~~~~~~~~~~~~~~~~~~~~~~~~~~~~~~~~~~~~~~~~~~~~~~~~~~~~~~~~~~~~~~~~~~~~~~~~~~~~~~~~ \\n', get_response(query) )\n",
        "    print('\\n============================================================================================\\n')\n",
        "\n"
      ]
    },
    {
      "cell_type": "markdown",
      "metadata": {
        "id": "IoyV2Dr_F3xJ"
      },
      "source": [
        "# **Assignment-2**\n"
      ]
    },
    {
      "cell_type": "code",
      "execution_count": 56,
      "metadata": {
        "id": "WY1NWWchsrfr"
      },
      "outputs": [],
      "source": [
        "import os\n",
        "import re\n",
        "import json\n",
        "from transformers import pipeline\n",
        "import json\n",
        "import openpyxl\n",
        "import pandas as pd\n",
        "\n"
      ]
    },
    {
      "cell_type": "code",
      "execution_count": 57,
      "metadata": {
        "id": "Cvpp-7RXF9Lb"
      },
      "outputs": [],
      "source": [
        "def load_and_preprocess(file_path):\n",
        "\n",
        "\n",
        "  if not os.path.exists(file_path):\n",
        "    raise FileNotFoundError(f\"File not found: {file_path}\")\n",
        "  with open(file_path, 'r', encoding='utf-8') as file:\n",
        "      document = file.read()\n",
        "\n",
        "  chunks = [document[i:i+1000] for i in range(0, len(document), 1000)]           #  split the doc into the chunks\n",
        "\n",
        "  return chunks"
      ]
    },
    {
      "cell_type": "code",
      "execution_count": 58,
      "metadata": {
        "id": "z_haIxCoF2qi"
      },
      "outputs": [],
      "source": [
        "def risk_detection(chunks):\n",
        "    model_name = \"google/flan-t5-base\"                                       #load the model \" google flan-t5\"\n",
        "    nlp = pipeline(\"text2text-generation\", model=model_name)\n",
        "    results=[]\n",
        "\n",
        "#  pass the data to get the  risk and recommendations\n",
        "\n",
        "    for chunk in chunks:\n",
        "        prompt = (\"Analyze the following  text   for potential risks, hidden obligations,\"\n",
        "               \"or dependencies, and provide a recommendations format[where :  what :  ]:\\n\\n\"+ chunk\n",
        "               )\n",
        "        result= nlp(prompt, max_length=200, do_sample=False)\n",
        "        prompt = (\"understand the following text for potential risks,\" \"or dependencies, and provide risk detection format [Mistake:   ,issue will happen: ]:\\n\\n\"+ chunk\n",
        "              )\n",
        "        result1= nlp(prompt, max_length=200, do_sample=False)\n",
        "        results.append({\"context\": chunk, \"recommendations\": result[0]['generated_text'],\"risk detection\": result1[0]['generated_text']})\n",
        "\n",
        "\n",
        "    return results"
      ]
    },
    {
      "cell_type": "code",
      "execution_count": 61,
      "metadata": {
        "colab": {
          "base_uri": "https://localhost:8080/"
        },
        "id": "gYjfgnhQGCZO",
        "outputId": "a2391355-8cae-4cd2-c0e7-8982629f0886"
      },
      "outputs": [
        {
          "name": "stdout",
          "output_type": "stream",
          "text": [
            "Generating recommendations...\n"
          ]
        },
        {
          "name": "stderr",
          "output_type": "stream",
          "text": [
            "Device set to use cpu\n",
            "Both `max_new_tokens` (=256) and `max_length`(=200) seem to have been set. `max_new_tokens` will take precedence. Please refer to the documentation for more information. (https://huggingface.co/docs/transformers/main/en/main_classes/text_generation)\n",
            "Both `max_new_tokens` (=256) and `max_length`(=200) seem to have been set. `max_new_tokens` will take precedence. Please refer to the documentation for more information. (https://huggingface.co/docs/transformers/main/en/main_classes/text_generation)\n",
            "Both `max_new_tokens` (=256) and `max_length`(=200) seem to have been set. `max_new_tokens` will take precedence. Please refer to the documentation for more information. (https://huggingface.co/docs/transformers/main/en/main_classes/text_generation)\n",
            "Both `max_new_tokens` (=256) and `max_length`(=200) seem to have been set. `max_new_tokens` will take precedence. Please refer to the documentation for more information. (https://huggingface.co/docs/transformers/main/en/main_classes/text_generation)\n"
          ]
        },
        {
          "name": "stdout",
          "output_type": "stream",
          "text": [
            "Analysis complete. Results saved to risk_analysis.json\n"
          ]
        }
      ],
      "source": [
        "def main(file_path):\n",
        "\n",
        "    chunks = load_and_preprocess(file_path)          #Loading the document\n",
        "\n",
        "    print(\"Generating recommendations...\")\n",
        "    analysis = risk_detection(chunks)\n",
        "\n",
        "\n",
        "    output_path = \"risk_analysis.json\"              # Save results to a JSON file\n",
        "\n",
        "    with open(output_path, \"w\", encoding=\"utf-8\") as f:\n",
        "        json.dump(analysis, f, ensure_ascii=False, indent=4)\n",
        "    print(f\"Analysis complete. Results saved to {output_path}\")\n",
        "\n",
        "\n",
        "\n",
        "\n",
        "\n",
        "file_path = \"/content/House Lease Agreement.txt\"                                 #  path of document  to analysis\n",
        "main(file_path)                                            #  call main funtion to  load and  detect the risk"
      ]
    },
    {
      "cell_type": "code",
      "execution_count": 62,
      "metadata": {
        "colab": {
          "base_uri": "https://localhost:8080/"
        },
        "id": "SA7IrglRGFJ1",
        "outputId": "e3262ce8-9b4d-49d1-f6b4-3289bd4c5a2b"
      },
      "outputs": [
        {
          "name": "stdout",
          "output_type": "stream",
          "text": [
            "Excel file created successfully at output.xlsx\n",
            "Context:\n",
            " House Lease Agreement\n",
            "\n",
            "This House Lease Agreement (\"Agreement\") is made on this 17th day of September, 2025, between:\n",
            "\n",
            "Owner (Lessor): Mr. Ramesh Kumar  \n",
            "Address: 12, Green Valley Apartments, Anna Nagar, Chennai, Tamil Nadu  \n",
            "Phone: +91 98765 43210  \n",
            "\n",
            "AND  \n",
            "\n",
            "Tenant (Lessee): Mr. Arjun Mehta  \n",
            "Address: 45, Sunrise Residency, Indiranagar, Bengaluru, Karnataka  \n",
            "Phone: +91 91234 56789  \n",
            "\n",
            "------------------------------------------------------------\n",
            "\n",
            "1. Property Description\n",
            "The Owner agrees to lease to the Tenant the residential property located at:\n",
            "Flat No. 203, Lotus Residency, T. Nagar, Chennai – 600017\n",
            "\n",
            "2. Lease Term\n",
            "This lease shall begin on 1st October, 2025 and continue until 30th September, 2026, unless extended or terminated by mutual agreement.\n",
            "\n",
            "3. Rent\n",
            "The Tenant shall pay the Owner a monthly rent of ₹25,000, payable in advance on or before the 5th day of each month.\n",
            "\n",
            "4. Deposit\n",
            "A refundable security deposit of ₹75,000 shall be paid by the Tenant at the time of signing this Agree\n",
            "Recommendation:\n",
            "------------- The following documents should be signed by the Tenant: ------------------------------------------------------------------------------------------------------------------------------------------------------------------------------------------------------------------------------------------------------------------------------------------------------------------------------------------------------------------------------------------------------------------------------------------------------------------------------------------------------------------------------------------------------------------------------------------------------------------------------------------------------------------------------------------------------------------------------------------------------------\n",
            "Risk Detection:\n",
            "------------- This House Lease Agreement (\"Agreement\") is made on this 17th day of September, 2025, between: Owner (Lessor): Mr. Ramesh Kumar Address: 12, Green Valley Apartments, Anna Nagar, Chennai, Tamil Nadu Phone: +91 98765 43210 AND Tenant (Lessee): Mr. Arjun Mehta Address: 45, Sunrise Residency, Indiranagar, Bengaluru, Karnataka Phone: +91 91234 56789 This House Lease Agreement (\"Agreement\") is made on this 17th day of September, 2025, between: Owner (Lessor): Mr. Ramesh Kumar Address: 12, Green Valley Apartments, Anna Nagar, Chennai, Tamil Nadu Phone: +91 98765 43210 AND Tenant (Lessee): Mr. Arjun Mehta Address: 45, Sunrise Residency, Indiranagar, Bengaluru, Karnataka Phone: +91 91234 56789 ---------------------------------------------------------------------------------------------\n",
            "--------------------------------------------------------------------------------\n",
            "Context:\n",
            " ment.\n",
            "\n",
            "5. Tenant’s Obligations\n",
            "- Maintain cleanliness of the premises.  \n",
            "- Not make structural changes without written consent.  \n",
            "- Pay all utility bills including electricity, water, and internet charges.  \n",
            "\n",
            "6. Owner’s Obligations\n",
            "- Ensure the property is fit for habitation.  \n",
            "- Carry out necessary structural repairs not caused by Tenant’s negligence.  \n",
            "\n",
            "7. Termination\n",
            "Either party may terminate this lease with 30 days written notice. Failure to pay rent on time may lead to immediate termination.\n",
            "\n",
            "8. Jurisdiction\n",
            "This Agreement shall be governed under the applicable laws of India.\n",
            "\n",
            "------------------------------------------------------------\n",
            "\n",
            "Signatures\n",
            "\n",
            "Owner:  Ramesh Kumar  Date: 17/09/2025  \n",
            "\n",
            "Tenant:  Arjun Mehtas  Date: 17/09/2025\n",
            "\n",
            "Recommendation:\n",
            "------------- . . . . . . . . . . . . . . . . . . . . . . . . . . . . . . . . . . . . . . . . . . . . . . . . . . . . . . . . . . . . . . . . . . . . . . . . . . . . . . . . . . . . . . . . . . . . . . . . . . . . . . . . . . . . . . . . . . . . . . . . . . . . . . . .\n",
            "Risk Detection:\n",
            "------------- ------------------------------------------------------------------------------\n",
            "--------------------------------------------------------------------------------\n"
          ]
        }
      ],
      "source": [
        "\n",
        "output_file = \"output.xlsx\"\n",
        "with open(\"risk_analysis.json\", \"r\", encoding=\"utf-8\") as f:\n",
        "    data = json.load(f)\n",
        "\n",
        "\n",
        "df = pd.DataFrame(data)                                   # convert the data into frame  to store in excel\n",
        "df.to_excel(output_file, index=False, engine='openpyxl')\n",
        "print(f\"Excel file created successfully at {output_file}\")\n",
        "\n",
        "\n",
        "\n",
        "for entry in data:\n",
        "    print(\"Context:\\n\", entry[\"context\"])\n",
        "    print(\"Recommendation:\\n-------------\", entry[\"recommendations\"])\n",
        "    print(\"Risk Detection:\\n-------------\", entry[\"risk detection\"])\n",
        "    print(\"-\" * 80)"
      ]
    },
    {
      "cell_type": "markdown",
      "metadata": {
        "id": "JVNxwalo9PMy"
      },
      "source": [
        "# **To send mail and save content in Google sheet**"
      ]
    },
    {
      "cell_type": "code",
      "execution_count": 63,
      "metadata": {
        "id": "WijyPZQETtNL"
      },
      "outputs": [],
      "source": [
        "path =\"/infosys-449015-83ef8f804adb.json\"\n",
        "id=\"1rvEwtYh7mpqcBZgv7D14giGZ_mhBM-aiNZ_dxjJJQf0\""
      ]
    },
    {
      "cell_type": "code",
      "execution_count": 64,
      "metadata": {
        "colab": {
          "base_uri": "https://localhost:8080/"
        },
        "id": "9UtNwSUW_9O6",
        "outputId": "0d5ea6ca-e4ab-4574-fc54-431b59622be5"
      },
      "outputs": [
        {
          "name": "stdout",
          "output_type": "stream",
          "text": [
            "Email sent successfully!\n"
          ]
        }
      ],
      "source": [
        "import smtplib\n",
        "from email.mime.text import MIMEText\n",
        "from email.mime.multipart import MIMEMultipart\n",
        "\n",
        "def send_email_simple(sender_email, sender_password, recipient_email, subject, body):\n",
        "    try:\n",
        "        # Set up the server\n",
        "        server = smtplib.SMTP('smtp.gmail.com', 587)\n",
        "        server.starttls()  # Start TLS encryption\n",
        "\n",
        "        # Log in to your Gmail account\n",
        "        server.login(sender_email, sender_password)\n",
        "\n",
        "        # Create the email\n",
        "        message = MIMEMultipart()\n",
        "        message['From'] = sender_email\n",
        "        message['To'] = recipient_email\n",
        "        message['Subject'] = subject\n",
        "        message.attach(MIMEText(body, 'plain'))\n",
        "\n",
        "        # Send the email\n",
        "        server.send_message(message)\n",
        "\n",
        "        print(\"Email sent successfully!\")\n",
        "    except Exception as e:\n",
        "        print(f\"An error occurred: {e}\")\n",
        "    finally:\n",
        "        server.quit()\n",
        "\n",
        "if __name__ == \"__main__\":\n",
        "    sender_email = \"sender@gmail.com\"\n",
        "    sender_password = \"Enter gmail App Key\"\n",
        "    recipient_email = \"receiver@gmail.com\"\n",
        "    subject = \"legal document  Risks and Recommendation \"\n",
        "    body = \"\"\"Hello,\n",
        "              This is for your doc  provided :  https://docs.google.com/spreadsheets/d/1rvEwtYh7mpqcBZgv7D14giGZ_mhBM-aiNZ_dxjJJQf0/edit?usp=sharing\"\"\"\n",
        "\n",
        "    send_email_simple(sender_email, sender_password, recipient_email, subject, body)\n"
      ]
    },
    {
      "cell_type": "markdown",
      "metadata": {
        "id": "D_h4r2BKXeZH"
      },
      "source": [
        "# **Mail alert about the Recent Law**"
      ]
    },
    {
      "cell_type": "code",
      "execution_count": null,
      "metadata": {
        "id": "hxy0c12ipSTY"
      },
      "outputs": [],
      "source": [
        "import smtplib\n",
        "from email.mime.multipart import MIMEMultipart\n",
        "from email.mime.text import MIMEText\n",
        "import requests\n",
        "from bs4 import BeautifulSoup\n",
        "from langchain_groq import ChatGroq\n",
        "\n",
        "\n",
        "#API_KEY = \"Enter API Key\"\n",
        "#MODEL_NAME = \"llama-3.2-11b-vision-preview\"\n",
        "llm = ChatGroq(groq_api_key=api_key, model_name=\"llama-3.3-70b-versatile\")\n",
        "\n",
        "\n",
        "\n",
        "#===========================================================================================================================================================\n",
        "#===========================================================================================================================================================\n",
        "\n",
        "def scrape_legal_news(url):\n",
        "    print(\"Scrapping content ------------>>\\n\\n\")\n",
        "    response = requests.get(url)\n",
        "    response.raise_for_status()\n",
        "    soup = BeautifulSoup(response.content, 'html.parser')\n",
        "\n",
        "    # Adjust selectors to target titles and links\n",
        "    headlines = soup.select('h1, h2, h3, div')  # Update with appropriate selectors\n",
        "    articles = []\n",
        "    for headline in headlines:\n",
        "        title = headline.get_text(strip=True)\n",
        "        link_tag = headline.find('a')\n",
        "        link = link_tag['href'] if link_tag and 'href' in link_tag.attrs else None\n",
        "        if title:  # Ensure title is not empty\n",
        "            articles.append({\"title\": title, \"link\": link or \"No link available\"})\n",
        "    return articles\n",
        "\n",
        "\n",
        "\n",
        "#===========================================================================================================================================================\n",
        "#===========================================================================================================================================================\n",
        "\n",
        "\n",
        "def summarize_news_in_chunks(news_list, max_chunk_size=7000):\n",
        "\n",
        "    if not news_list:\n",
        "        return \"No news articles to summarize.\"\n",
        "\n",
        "    chunks = []\n",
        "    current_chunk = \"\"\n",
        "    chunk_size = 0\n",
        "\n",
        "    # Split the news into chunks based on max token size\n",
        "    for i, news in enumerate(news_list, 1):\n",
        "        title = news.get('title', 'No title available')\n",
        "        link = news.get('link', 'No link available')\n",
        "        news_item = f\"{i}. {title} ({link})\\n\"\n",
        "        token_count = len(news_item)  # Approximate token count using character length\n",
        "\n",
        "        # If adding this news exceeds the chunk size, start a new chunk\n",
        "        if chunk_size + token_count > max_chunk_size:\n",
        "            chunks.append(current_chunk)\n",
        "            current_chunk = news_item\n",
        "            chunk_size = token_count\n",
        "        else:\n",
        "            current_chunk += news_item\n",
        "            chunk_size += token_count\n",
        "\n",
        "    # Append the last chunk\n",
        "    if current_chunk:\n",
        "        chunks.append(current_chunk)\n",
        "\n",
        "    # Summarize each chunk using the Llama model\n",
        "    print(\"Model call...\\n\\n\")\n",
        "\n",
        "    summaries = []\n",
        "    for chunk in chunks:\n",
        "        input_text = f\"Summarize the following legal updates into key sentences: more simpler in 2 lines \\n{chunk}\"\n",
        "        response = llm.invoke(input_text)  # Call Llama model\n",
        "        summaries.append(response.content)\n",
        "\n",
        "    # Combine all summaries into one\n",
        "    return \"\\n\\n\".join(summaries)\n",
        "\n",
        "\n",
        "\n",
        "#===========================================================================================================================================================\n",
        "#===========================================================================================================================================================\n",
        "\n",
        "\n",
        "# Step 3: Send the email\n",
        "def send_email(subject, body, recipient_email, sender_email, sender_password):\n",
        "    print(\"Sending Mail...\\n\\n\")\n",
        "    msg = MIMEMultipart()\n",
        "    msg['From'] = sender_email\n",
        "    msg['To'] = recipient_email\n",
        "    msg['Subject'] = subject\n",
        "\n",
        "    msg.attach(MIMEText(body, 'html'))\n",
        "\n",
        "    # Connect to the SMTP server\n",
        "    with smtplib.SMTP('smtp.gmail.com', 587) as server:\n",
        "        server.starttls()\n",
        "        server.login(sender_email, sender_password)\n",
        "        server.sendmail(sender_email, recipient_email, msg.as_string())\n",
        "\n",
        "\n",
        "\n",
        "\n",
        "\n",
        "#===========================================================================================================================================================\n",
        "#===========================================================================================================================================================\n",
        "\n",
        "\n",
        "\n",
        "\n",
        "\n",
        "def main():\n",
        "    # legal_news_url = input()\n",
        "    legal_news_url = \"https://economictimes.indiatimes.com/wealth/legal/will/rent-agreements-must-have-these-clauses-to-protect-landlords-rights/articleshow/104571151.cms?from=mdr\"\n",
        "    recipient_email = \"receiver@gmail.com\"\n",
        "    sender_email = \"sender@gmail.com\"\n",
        "    sender_password = \"Enter gmail App Key\"\n",
        "\n",
        "\n",
        "    # Scrape and summarize news\n",
        "    scraped_news = scrape_legal_news(legal_news_url)\n",
        "    if not scraped_news:\n",
        "        print(\"No news found.\")\n",
        "        return\n",
        "\n",
        "\n",
        "    summarized_news = summarize_news_in_chunks(scraped_news)\n",
        "\n",
        "    # Create email body with alignment\n",
        "    email_body = \"<html><body>\"\n",
        "    email_body += \"<h2>Recent Legal Updates</h2>\"\n",
        "    email_body += \"<ul>\"\n",
        "    for point in summarized_news.split('\\n'):\n",
        "        email_body += f\"<li>{point.strip()}</li>\"\n",
        "    email_body += \"</ul>\"\n",
        "    email_body += \"</body></html>\"\n",
        "\n",
        "\n",
        "\n",
        "    # Send email\n",
        "    send_email(\n",
        "        subject=\"Important Legal Updates\",\n",
        "        body=email_body,\n",
        "        recipient_email=recipient_email,\n",
        "        sender_email=sender_email,\n",
        "        sender_password=sender_password\n",
        "    )\n",
        "\n",
        "    print(\"Email sent successfully!\")\n",
        "\n",
        "\n",
        "\n",
        "\n",
        "if __name__ == \"__main__\":\n",
        "    main()\n"
      ]
    }
  ],
  "metadata": {
    "colab": {
      "provenance": [],
      "toc_visible": true
    },
    "kernelspec": {
      "display_name": "Python 3",
      "name": "python3"
    },
    "language_info": {
      "name": "python"
    }
  },
  "nbformat": 4,
  "nbformat_minor": 0
}
